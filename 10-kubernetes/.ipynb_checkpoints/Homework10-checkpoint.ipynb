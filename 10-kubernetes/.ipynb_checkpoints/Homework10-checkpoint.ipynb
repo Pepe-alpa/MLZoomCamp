{
 "cells": [
  {
   "cell_type": "markdown",
   "id": "3c97e631",
   "metadata": {},
   "source": [
    "## Homework\n",
    "\n",
    "In this homework, we'll deploy the credit scoring model from the homework 5.\n",
    "We already have a docker image for this model - we'll use it for \n",
    "deploying the model to Kubernetes.\n",
    "\n",
    "\n",
    "## Bulding the image\n",
    "\n",
    "Clone the course repo if you haven't:\n",
    "\n",
    "```\n",
    "git clone https://github.com/DataTalksClub/machine-learning-zoomcamp.git\n",
    "```\n",
    "\n",
    "Go to the `course-zoomcamp/cohorts/2023/05-deployment/homework` folder and \n",
    "execute the following:\n",
    "\n",
    "\n",
    "```bash\n",
    "docker build -t zoomcamp-model:hw10 .\n",
    "```\n",
    "\n",
    "> **Note:** If you have troubles building the image, you can \n",
    "> use the image we built and published to docker hub:\n",
    "> `docker pull svizor/zoomcamp-model:hw10`"
   ]
  },
  {
   "cell_type": "markdown",
   "id": "8ae4e86a",
   "metadata": {},
   "source": [
    "## Question 1\n",
    "\n",
    "Run it to test that it's working locally:\n",
    "\n",
    "```bash\n",
    "docker run -it --rm -p 9696:9696 zoomcamp-model:hw10\n",
    "```\n",
    "\n",
    "And in another terminal, execute `q6_test.py` file:\n",
    "\n",
    "```bash\n",
    "python q6_test.py\n",
    "```\n",
    "\n",
    "You should see this:\n",
    "\n",
    "```python\n",
    "{'get_credit': True, 'get_credit_probability': <value>}\n",
    "```\n",
    "\n",
    "Here `<value>` is the probability of getting a credit card. You need to choose the right one.\n",
    "\n",
    "* 0.3269\n",
    "* 0.5269\n",
    "* 0.7269\n",
    "* 0.9269\n",
    "\n",
    "Now you can stop the container running in Docker."
   ]
  },
  {
   "cell_type": "code",
   "execution_count": 1,
   "id": "43cb6b39",
   "metadata": {},
   "outputs": [
    {
     "data": {
      "text/plain": [
       "0.7269"
      ]
     },
     "execution_count": 1,
     "metadata": {},
     "output_type": "execute_result"
    }
   ],
   "source": [
    "0.7269"
   ]
  },
  {
   "cell_type": "markdown",
   "id": "c54588b6",
   "metadata": {},
   "source": [
    "## Installing `kubectl` and `kind`\n",
    "\n",
    "You need to install:\n",
    "\n",
    "* `kubectl` - https://kubernetes.io/docs/tasks/tools/ (you might already have it - check before installing)\n",
    "* `kind` - https://kind.sigs.k8s.io/docs/user/quick-start/\n",
    "\n",
    "\n",
    "## Question 2\n",
    "\n",
    "What's the version of `kind` that you have? \n",
    "\n",
    "Use `kind --version` to find out."
   ]
  },
  {
   "cell_type": "code",
   "execution_count": 3,
   "id": "e0576480",
   "metadata": {},
   "outputs": [],
   "source": [
    "import subprocess"
   ]
  },
  {
   "cell_type": "code",
   "execution_count": 4,
   "id": "127b804e",
   "metadata": {},
   "outputs": [
    {
     "name": "stdout",
     "output_type": "stream",
     "text": [
      "kind v0.20.0 go1.20.4 windows/amd64\n",
      "\n"
     ]
    }
   ],
   "source": [
    "output = subprocess.run([\"C:\\\\Program Files\\\\Kind\\\\kind.exe\", \"version\"], capture_output=True, text=True)\n",
    "print(output.stdout)"
   ]
  },
  {
   "cell_type": "markdown",
   "id": "2e7f4abb",
   "metadata": {},
   "source": [
    "## Creating a cluster\n",
    "\n",
    "Now let's create a cluster with `kind`:\n",
    "\n",
    "```bash\n",
    "kind create cluster\n",
    "```\n",
    "\n",
    "And check with `kubectl` that it was successfully created:\n",
    "\n",
    "```bash\n",
    "kubectl cluster-info\n",
    "```\n",
    "\n",
    "\n",
    "## Question 3\n",
    "\n",
    "Now let's test if everything works. Use `kubectl` to get the list of running services. \n",
    "\n",
    "What's `CLUSTER-IP` of the service that is already running there? "
   ]
  },
  {
   "cell_type": "code",
   "execution_count": 5,
   "id": "922f6410",
   "metadata": {},
   "outputs": [
    {
     "name": "stderr",
     "output_type": "stream",
     "text": [
      "Creating cluster \"kind\" ...\n",
      " â€¢ Ensuring node image (kindest/node:v1.27.3) ðŸ–¼  ...\n",
      " âœ“ Ensuring node image (kindest/node:v1.27.3) ðŸ–¼\n",
      " â€¢ Preparing nodes ðŸ“¦   ...\n",
      " âœ“ Preparing nodes ðŸ“¦ \n",
      " â€¢ Writing configuration ðŸ“œ  ...\n",
      " âœ“ Writing configuration ðŸ“œ\n",
      " â€¢ Starting control-plane ðŸ•¹ï¸�  ...\n",
      " âœ“ Starting control-plane ðŸ•¹ï¸�\n",
      " â€¢ Installing CNI ðŸ”Œ  ...\n",
      " âœ“ Installing CNI ðŸ”Œ\n",
      " â€¢ Installing StorageClass ðŸ’¾  ...\n",
      " âœ“ Installing StorageClass ðŸ’¾\n",
      "Set kubectl context to \"kind-kind\"\n",
      "You can now use your cluster with:\n",
      "\n",
      "kubectl cluster-info --context kind-kind\n",
      "\n",
      "Have a question, bug, or feature request? Let us know! https://kind.sigs.k8s.io/#community ðŸ™‚\n"
     ]
    }
   ],
   "source": [
    "! kind create cluster"
   ]
  },
  {
   "cell_type": "code",
   "execution_count": 6,
   "id": "6a626a7b",
   "metadata": {},
   "outputs": [
    {
     "name": "stdout",
     "output_type": "stream",
     "text": [
      "Kubernetes control plane is running at https://127.0.0.1:65154\n",
      "CoreDNS is running at https://127.0.0.1:65154/api/v1/namespaces/kube-system/services/kube-dns:dns/proxy\n",
      "\n",
      "To further debug and diagnose cluster problems, use 'kubectl cluster-info dump'.\n"
     ]
    }
   ],
   "source": [
    "!kubectl cluster-info"
   ]
  },
  {
   "cell_type": "code",
   "execution_count": 8,
   "id": "fa83b6fe",
   "metadata": {},
   "outputs": [
    {
     "name": "stdout",
     "output_type": "stream",
     "text": [
      "NAME         TYPE        CLUSTER-IP   EXTERNAL-IP   PORT(S)   AGE\n",
      "kubernetes   ClusterIP   10.96.0.1    <none>        443/TCP   2m10s\n"
     ]
    }
   ],
   "source": [
    "!kubectl get service"
   ]
  },
  {
   "cell_type": "markdown",
   "id": "3dcb3070",
   "metadata": {},
   "source": [
    "10.96.0.1"
   ]
  },
  {
   "cell_type": "markdown",
   "id": "fe07ff22",
   "metadata": {},
   "source": [
    "## Question 4\n",
    "\n",
    "To be able to use the docker image we previously created (`zoomcamp-model:hw10`),\n",
    "we need to register it with `kind`.\n",
    "\n",
    "What's the command we need to run for that?\n",
    "\n",
    "* `kind create cluster`\n",
    "* `kind build node-image`\n",
    "* `kind load docker-image`\n",
    "* `kubectl apply`"
   ]
  },
  {
   "cell_type": "markdown",
   "id": "601e35e7",
   "metadata": {},
   "source": [
    "**kind load docker-image**"
   ]
  },
  {
   "cell_type": "markdown",
   "id": "c23f7fd2",
   "metadata": {},
   "source": [
    "## Question 5\n",
    "\n",
    "Now let's create a deployment config (e.g. `deployment.yaml`):\n",
    "\n",
    "```yaml\n",
    "apiVersion: apps/v1\n",
    "kind: Deployment\n",
    "metadata:\n",
    "  name: credit\n",
    "spec:\n",
    "  selector:\n",
    "    matchLabels:\n",
    "      app: credit\n",
    "  replicas: 1\n",
    "  template:\n",
    "    metadata:\n",
    "      labels:\n",
    "        app: credit\n",
    "    spec:\n",
    "      containers:\n",
    "      - name: credit\n",
    "        image: <Image>\n",
    "        resources:\n",
    "          requests:\n",
    "            memory: \"64Mi\"\n",
    "            cpu: \"100m\"            \n",
    "          limits:\n",
    "            memory: <Memory>\n",
    "            cpu: <CPU>\n",
    "        ports:\n",
    "        - containerPort: <Port>\n",
    "```\n",
    "\n",
    "Replace `<Image>`, `<Memory>`, `<CPU>`, `<Port>` with the correct values.\n",
    "\n",
    "What is the value for `<Port>`?\n",
    "\n",
    "Apply this deployment using the appropriate command and get a list of running Pods. \n",
    "You can see one running Pod."
   ]
  },
  {
   "cell_type": "markdown",
   "id": "8a1a153c",
   "metadata": {},
   "source": [
    "**9696**"
   ]
  },
  {
   "cell_type": "markdown",
   "id": "c0280692",
   "metadata": {},
   "source": [
    "## Question 6\n",
    "\n",
    "Let's create a service for this deployment (`service.yaml`):\n",
    "\n",
    "```yaml\n",
    "apiVersion: v1\n",
    "kind: Service\n",
    "metadata:\n",
    "  name: <Service name>\n",
    "spec:\n",
    "  type: LoadBalancer\n",
    "  selector:\n",
    "    app: <???>\n",
    "  ports:\n",
    "  - port: 80\n",
    "    targetPort: <PORT>\n",
    "```\n",
    "\n",
    "Fill it in. What do we need to write instead of `<???>`?\n",
    "\n",
    "Apply this config file."
   ]
  },
  {
   "cell_type": "markdown",
   "id": "35649d54",
   "metadata": {},
   "source": [
    "**credit**"
   ]
  }
 ],
 "metadata": {
  "kernelspec": {
   "display_name": "Python 3 (ipykernel)",
   "language": "python",
   "name": "python3"
  },
  "language_info": {
   "codemirror_mode": {
    "name": "ipython",
    "version": 3
   },
   "file_extension": ".py",
   "mimetype": "text/x-python",
   "name": "python",
   "nbconvert_exporter": "python",
   "pygments_lexer": "ipython3",
   "version": "3.9.13"
  }
 },
 "nbformat": 4,
 "nbformat_minor": 5
}
